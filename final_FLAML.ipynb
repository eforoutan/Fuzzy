{
 "cells": [
  {
   "cell_type": "code",
   "execution_count": 1,
   "metadata": {},
   "outputs": [],
   "source": [
    "import pandas as pd\n",
    "import numpy as np\n",
    "from sklearn.model_selection import KFold\n",
    "from sklearn.metrics import mean_squared_error, r2_score, mean_absolute_error\n",
    "from flaml import AutoML"
   ]
  },
  {
   "cell_type": "markdown",
   "metadata": {},
   "source": [
    "Load the data"
   ]
  },
  {
   "cell_type": "code",
   "execution_count": 5,
   "metadata": {},
   "outputs": [],
   "source": [
    "file_path = 'C:\\Texas\\Final_Texas_cbsa_SVI_2016.csv'\n",
    "data = pd.read_csv(file_path)"
   ]
  },
  {
   "cell_type": "markdown",
   "metadata": {},
   "source": [
    "Filter data for the specific city"
   ]
  },
  {
   "cell_type": "code",
   "execution_count": 6,
   "metadata": {},
   "outputs": [],
   "source": [
    "data = data[data['NAME'].isin([\n",
    "    \"San Antonio-New Braunfels, TX\",\n",
    "    \"Dallas-Fort Worth-Arlington, TX\",\n",
    "    \"Austin-Round Rock, TX\",\n",
    "    \"Houston-The Woodlands-Sugar Land, TX\"\n",
    "])]\n",
    "\n",
    "city = \"Austin-Round Rock, TX\"\n",
    "data = data[data['NAME'] == city]"
   ]
  },
  {
   "cell_type": "markdown",
   "metadata": {},
   "source": [
    "Define target and features"
   ]
  },
  {
   "cell_type": "code",
   "execution_count": 7,
   "metadata": {},
   "outputs": [],
   "source": [
    "y = data.Total\n",
    "X = data[['theme1', 'theme2', 'theme3', 'theme4', 'RH_mean', 'LST_mean', 'PopDens']]"
   ]
  },
  {
   "cell_type": "code",
   "execution_count": 8,
   "metadata": {},
   "outputs": [
    {
     "data": {
      "text/plain": [
       "(87, 7)"
      ]
     },
     "execution_count": 8,
     "metadata": {},
     "output_type": "execute_result"
    }
   ],
   "source": [
    "X.shape"
   ]
  },
  {
   "cell_type": "code",
   "execution_count": 15,
   "metadata": {},
   "outputs": [],
   "source": [
    "from sklearn.model_selection import train_test_split\n",
    "X_train, X_test, y_train, y_test = train_test_split(X, y, test_size=0.25, random_state=111)\n",
    "\n",
    "train_df = pd.concat([X_train, y_train], axis=1)\n",
    "test_df = pd.concat([X_test, y_test], axis=1)\n",
    "train_df.to_csv(f'train_{city}.csv', index=False)\n",
    "test_df.to_csv(f'test_{city}.csv', index=False)"
   ]
  },
  {
   "cell_type": "code",
   "execution_count": null,
   "metadata": {},
   "outputs": [],
   "source": [
    "# final = pd.concat([X, y], axis=1)\n",
    "# final.to_csv(f\"Data_{city}.csv\", index=False)"
   ]
  },
  {
   "cell_type": "markdown",
   "metadata": {},
   "source": [
    "Initialize KFold"
   ]
  },
  {
   "cell_type": "code",
   "execution_count": 12,
   "metadata": {},
   "outputs": [],
   "source": [
    "kf = KFold(n_splits= 2 , shuffle=True , random_state=111)"
   ]
  },
  {
   "cell_type": "markdown",
   "metadata": {},
   "source": [
    "Store performance metrics"
   ]
  },
  {
   "cell_type": "code",
   "execution_count": 44,
   "metadata": {},
   "outputs": [],
   "source": [
    "results = []"
   ]
  },
  {
   "cell_type": "markdown",
   "metadata": {},
   "source": [
    "Perform K-fold cross-validation"
   ]
  },
  {
   "cell_type": "code",
   "execution_count": 45,
   "metadata": {},
   "outputs": [
    {
     "name": "stdout",
     "output_type": "stream",
     "text": [
      "Processing fold 1...\n",
      "Fold 1: Best Model = <flaml.automl.model.ExtraTreesEstimator object at 0x000001A3BF2FC7C0>\n",
      "Fold 1: RMSE Train = 88.74, RMSE Test = 151.18\n",
      "Fold 1: MAE Train = 70.57, MAE Test = 99.69\n",
      "Fold 1: RÂ² Train = 0.80, R² Test = 0.53\n",
      "\n",
      "Processing fold 2...\n",
      "Fold 2: Best Model = <flaml.automl.model.RandomForestEstimator object at 0x000001A3BD302F10>\n",
      "Fold 2: RMSE Train = 56.57, RMSE Test = 170.25\n",
      "Fold 2: MAE Train = 40.57, MAE Test = 119.22\n",
      "Fold 2: RÂ² Train = 0.92, R² Test = 0.41\n",
      "\n",
      "Processing fold 3...\n",
      "Fold 3: Best Model = <flaml.automl.model.ExtraTreesEstimator object at 0x000001A3BF052DC0>\n",
      "Fold 3: RMSE Train = 42.19, RMSE Test = 120.35\n",
      "Fold 3: MAE Train = 34.74, MAE Test = 90.65\n",
      "Fold 3: RÂ² Train = 0.96, R² Test = 0.49\n",
      "\n",
      "Processing fold 4...\n",
      "Fold 4: Best Model = <flaml.automl.model.ExtraTreesEstimator object at 0x000001A3BDFD2820>\n",
      "Fold 4: RMSE Train = 12.86, RMSE Test = 176.65\n",
      "Fold 4: MAE Train = 10.01, MAE Test = 127.47\n",
      "Fold 4: RÂ² Train = 1.00, R² Test = 0.32\n",
      "\n",
      "Processing fold 5...\n",
      "Fold 5: Best Model = <flaml.automl.model.ExtraTreesEstimator object at 0x000001A3BF31C850>\n",
      "Fold 5: RMSE Train = 11.99, RMSE Test = 153.93\n",
      "Fold 5: MAE Train = 9.36, MAE Test = 109.40\n",
      "Fold 5: RÂ² Train = 1.00, R² Test = 0.37\n",
      "\n"
     ]
    }
   ],
   "source": [
    "for fold, (train_idx, test_idx) in enumerate(kf.split(X)):\n",
    "    print(f\"Processing fold {fold+1}...\")\n",
    "    \n",
    "    # Split the data\n",
    "    X_train, X_test = X.iloc[train_idx], X.iloc[test_idx]\n",
    "    y_train, y_test = y.iloc[train_idx], y.iloc[test_idx]\n",
    "    \n",
    "    # Save train and test sets\n",
    "    train_df = pd.concat([X_train, y_train], axis=1)\n",
    "    test_df = pd.concat([X_test, y_test], axis=1)\n",
    "    train_df.to_csv(f'train_fold_{fold+1}.csv', index=False)\n",
    "    test_df.to_csv(f'test_fold_{fold+1}.csv', index=False)\n",
    "    \n",
    "    # Initialize FLAML's AutoML\n",
    "    automl = AutoML()\n",
    "    automl_settings = {\n",
    "        \"time_budget\": 300,  # total running time in seconds\n",
    "        \"metric\": 'rmse',      # metric for evaluation\n",
    "        \"task\": 'regression',\n",
    "        \"n_splits\": 5,      # number of cross-validation splits\n",
    "        \"eval_method\": 'cv',\n",
    "        \"seed\": 111,        # random seed for reproducibility\n",
    "        \"verbose\":2,\n",
    "        # \"estimator_list\": ['xgboost'],  # use XGBoost (xgboost), LGBM (lgbm)\n",
    "    }\n",
    "    \n",
    "    # Fit model\n",
    "    automl.fit(X_train=X_train, y_train=y_train, **automl_settings)\n",
    "    best_model = automl.model\n",
    "    \n",
    "    # Make predictions\n",
    "    y_train_pred = best_model.predict(X_train)\n",
    "    y_test_pred = best_model.predict(X_test)\n",
    "    \n",
    "    # Evaluate performance\n",
    "    rmse_train = np.sqrt(mean_squared_error(y_train, y_train_pred))\n",
    "    rmse_test = np.sqrt(mean_squared_error(y_test, y_test_pred))\n",
    "    mae_train = mean_absolute_error(y_train, y_train_pred)\n",
    "    mae_test = mean_absolute_error(y_test, y_test_pred)\n",
    "    r2_train = r2_score(y_train, y_train_pred)\n",
    "    r2_test = r2_score(y_test, y_test_pred)\n",
    "    \n",
    "    # Store results\n",
    "    results.append([fold+1, best_model, rmse_train, rmse_test, mae_train, mae_test, r2_train, r2_test])\n",
    "    \n",
    "    print(f\"Fold {fold+1}: Best Model = {best_model}\")\n",
    "    print(f\"Fold {fold+1}: RMSE Train = {rmse_train:.2f}, RMSE Test = {rmse_test:.2f}\")\n",
    "    print(f\"Fold {fold+1}: MAE Train = {mae_train:.2f}, MAE Test = {mae_test:.2f}\")\n",
    "    print(f\"Fold {fold+1}: RÂ² Train = {r2_train:.2f}, R² Test = {r2_test:.2f}\\n\")"
   ]
  },
  {
   "cell_type": "markdown",
   "metadata": {},
   "source": [
    "Save results to a DataFrame"
   ]
  },
  {
   "cell_type": "code",
   "execution_count": 46,
   "metadata": {},
   "outputs": [],
   "source": [
    "results_df = pd.DataFrame(results, columns=['Fold', 'Best Model','RMSE_Train', 'RMSE_Test', 'MAE_Train', 'MAE_Test', 'R2_Train', 'R2_Test'])\n",
    "results_df.to_csv(f\"5-Fold_results_{city}.csv\", index=False)"
   ]
  }
 ],
 "metadata": {
  "kernelspec": {
   "display_name": ".venv",
   "language": "python",
   "name": "python3"
  },
  "language_info": {
   "codemirror_mode": {
    "name": "ipython",
    "version": 3
   },
   "file_extension": ".py",
   "mimetype": "text/x-python",
   "name": "python",
   "nbconvert_exporter": "python",
   "pygments_lexer": "ipython3",
   "version": "3.9.0"
  }
 },
 "nbformat": 4,
 "nbformat_minor": 2
}
